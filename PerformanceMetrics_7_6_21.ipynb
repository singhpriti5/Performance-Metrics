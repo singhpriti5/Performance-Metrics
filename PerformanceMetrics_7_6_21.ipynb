{
  "nbformat": 4,
  "nbformat_minor": 0,
  "metadata": {
    "colab": {
      "name": "PerformanceMetrics 7-6-21.ipynb",
      "provenance": [],
      "collapsed_sections": []
    },
    "language_info": {
      "codemirror_mode": {
        "name": "ipython",
        "version": 3
      },
      "file_extension": ".py",
      "mimetype": "text/x-python",
      "name": "python",
      "nbconvert_exporter": "python",
      "pygments_lexer": "ipython3",
      "version": "3.6.8"
    },
    "kernelspec": {
      "display_name": "Python 3",
      "language": "python",
      "name": "python3"
    }
  },
  "cells": [
    {
      "cell_type": "markdown",
      "metadata": {
        "id": "s0Ej_bXyQvnV"
      },
      "source": [
        "# Compute performance metrics for the given Y and Y_score without sklearn"
      ]
    },
    {
      "cell_type": "code",
      "metadata": {
        "id": "4CHb6NE7Qvnc"
      },
      "source": [
        "import numpy as np\n",
        "import pandas as pd"
      ],
      "execution_count": null,
      "outputs": []
    },
    {
      "cell_type": "code",
      "metadata": {
        "colab": {
          "base_uri": "https://localhost:8080/"
        },
        "id": "FrZIeN9AC0He",
        "outputId": "e9e25345-e929-404b-ef85-38f33bc0b5dd"
      },
      "source": [
        "data=pd.read_csv(\"5_a.csv\")\n",
        "data.shape"
      ],
      "execution_count": null,
      "outputs": [
        {
          "output_type": "execute_result",
          "data": {
            "text/plain": [
              "(10100, 2)"
            ]
          },
          "metadata": {
            "tags": []
          },
          "execution_count": 3
        }
      ]
    },
    {
      "cell_type": "code",
      "metadata": {
        "colab": {
          "base_uri": "https://localhost:8080/"
        },
        "id": "fotj1bFuC0Ez",
        "outputId": "722847b9-2b90-46b7-8940-cab3e99025ac"
      },
      "source": [
        "print(data.head())"
      ],
      "execution_count": null,
      "outputs": [
        {
          "output_type": "stream",
          "text": [
            "     y     proba\n",
            "0  1.0  0.637387\n",
            "1  1.0  0.635165\n",
            "2  1.0  0.766586\n",
            "3  1.0  0.724564\n",
            "4  1.0  0.889199\n"
          ],
          "name": "stdout"
        }
      ]
    },
    {
      "cell_type": "code",
      "metadata": {
        "id": "SiyQx8ODC0Cb"
      },
      "source": [
        "#predict function\n",
        "def predict(df,y,thresh_hold):\n",
        "    y_pred=[]\n",
        "    for label in df[y]:\n",
        "        if label<thresh_hold:\n",
        "            y_pred.append(0)\n",
        "        else:\n",
        "            y_pred.append(1)\n",
        "    return y_pred\n",
        "    \n",
        "    \n",
        "# confusion matrix\n",
        "def cal_vals(df,y,y_pred):\n",
        "    tp=0\n",
        "    tn=0\n",
        "    fn=0\n",
        "    fp=0\n",
        "    for val1,val2 in enumerate(df['y']):\n",
        "        if(df.y_pred[val1]==1) and df.y[val1]==1:\n",
        "            tp=tp+1\n",
        "        if(df.y_pred[val1]==0) and df.y[val1]==0:\n",
        "            tn=tn+1\n",
        "        if(df.y_pred[val1]==0) and df.y[val1]==1:\n",
        "            fn=fn+1\n",
        "        if(df.y_pred[val1]==1) and df.y[val1]==0:\n",
        "            fp=fp+1\n",
        "    return {'tn':tn,'tp':tp,'fn':fn,'fp':fp}"
      ],
      "execution_count": null,
      "outputs": []
    },
    {
      "cell_type": "code",
      "metadata": {
        "id": "qlzIFfsnCz_3"
      },
      "source": [
        "thresh_hold=0.5\n",
        "data['y_pred']=predict(data,'proba',thresh_hold)\n",
        "confusion_matrix=cal_vals(data,'y','y_pred')"
      ],
      "execution_count": null,
      "outputs": []
    },
    {
      "cell_type": "code",
      "metadata": {
        "id": "92dDUXAgPKBD"
      },
      "source": [
        "#refference https://www.youtube.com/watch?v=9PbrWiLC-4k\n",
        "\n",
        "#predict function\n",
        "data['yy_pred']= (data.proba >= 0.5).astype('int') \n",
        "\n",
        "##confusion matrix\n",
        "def compute_tp_tn_fn_fp(y,y_pred):\n",
        "\ttp = sum((y== 1) & (y_pred == 1))\n",
        "\ttn = sum((y == 0) & (y_pred == 0))\n",
        "\tfn = sum((y == 1) & (y_pred == 0))\n",
        "\tfp = sum((y == 0) & (y_pred == 1))\n",
        "\treturn {'tn':tn,'tp':tp,'fn':fn,'fp':fp}\n",
        "c_m=compute_tp_tn_fn_fp(data.y,data.y_pred)"
      ],
      "execution_count": null,
      "outputs": []
    },
    {
      "cell_type": "code",
      "metadata": {
        "colab": {
          "base_uri": "https://localhost:8080/"
        },
        "id": "yor3_kjHMuG7",
        "outputId": "9a57af84-4294-44fb-e396-1b574188a47c"
      },
      "source": [
        "print(data.head())"
      ],
      "execution_count": null,
      "outputs": [
        {
          "output_type": "stream",
          "text": [
            "     y     proba  y_pred  yy_pred\n",
            "0  1.0  0.637387       1        1\n",
            "1  1.0  0.635165       1        1\n",
            "2  1.0  0.766586       1        1\n",
            "3  1.0  0.724564       1        1\n",
            "4  1.0  0.889199       1        1\n"
          ],
          "name": "stdout"
        }
      ]
    },
    {
      "cell_type": "code",
      "metadata": {
        "colab": {
          "base_uri": "https://localhost:8080/"
        },
        "id": "PejiPq0xMeQf",
        "outputId": "1fd48461-9216-48ae-ab57-f0ab2d3a6ebe"
      },
      "source": [
        "data.shape"
      ],
      "execution_count": null,
      "outputs": [
        {
          "output_type": "execute_result",
          "data": {
            "text/plain": [
              "(10100, 4)"
            ]
          },
          "metadata": {
            "tags": []
          },
          "execution_count": 9
        }
      ]
    },
    {
      "cell_type": "code",
      "metadata": {
        "colab": {
          "base_uri": "https://localhost:8080/"
        },
        "id": "2D59yi77R3MV",
        "outputId": "d8ffd77f-2f9f-4c8c-bacb-ce8cc3436e2c"
      },
      "source": [
        "print(data)"
      ],
      "execution_count": null,
      "outputs": [
        {
          "output_type": "stream",
          "text": [
            "         y     proba  y_pred  yy_pred\n",
            "0      1.0  0.637387       1        1\n",
            "1      1.0  0.635165       1        1\n",
            "2      1.0  0.766586       1        1\n",
            "3      1.0  0.724564       1        1\n",
            "4      1.0  0.889199       1        1\n",
            "...    ...       ...     ...      ...\n",
            "10095  1.0  0.665371       1        1\n",
            "10096  1.0  0.607961       1        1\n",
            "10097  1.0  0.777724       1        1\n",
            "10098  1.0  0.846036       1        1\n",
            "10099  1.0  0.679507       1        1\n",
            "\n",
            "[10100 rows x 4 columns]\n"
          ],
          "name": "stdout"
        }
      ]
    },
    {
      "cell_type": "markdown",
      "metadata": {
        "id": "JL7woFjKnLmR"
      },
      "source": [
        "#Computing Confusion Matrix"
      ]
    },
    {
      "cell_type": "code",
      "metadata": {
        "colab": {
          "base_uri": "https://localhost:8080/"
        },
        "id": "hp6xOwmnQRxr",
        "outputId": "189a3899-3dba-4c09-e5c5-c865a6034178"
      },
      "source": [
        "print(\"the confusion matrix is: \",c_m)"
      ],
      "execution_count": null,
      "outputs": [
        {
          "output_type": "stream",
          "text": [
            "the confusion matrix is:  {'tn': 0, 'tp': 10000, 'fn': 0, 'fp': 100}\n"
          ],
          "name": "stdout"
        }
      ]
    },
    {
      "cell_type": "code",
      "metadata": {
        "id": "jip1qSLQCz2P",
        "colab": {
          "base_uri": "https://localhost:8080/"
        },
        "outputId": "fea020b6-a914-47fc-c0ab-daa2aa67bfd0"
      },
      "source": [
        "# F1 score\n",
        "x=data.y.value_counts()\n",
        "P=x[1]\n",
        "\n",
        "precision=confusion_matrix['tp']/(confusion_matrix['tp']+confusion_matrix['fp'])\n",
        "recall=confusion_matrix['tp']/P\n",
        "\n",
        "F1=2*precision*recall/(precision+recall)\n",
        "print('the F1 score is: ',F1)"
      ],
      "execution_count": null,
      "outputs": [
        {
          "output_type": "stream",
          "text": [
            "the F1 score is:  0.9950248756218906\n"
          ],
          "name": "stdout"
        }
      ]
    },
    {
      "cell_type": "markdown",
      "metadata": {
        "id": "OOo3q86znZH7"
      },
      "source": [
        "#Computing F1 Score"
      ]
    },
    {
      "cell_type": "code",
      "metadata": {
        "colab": {
          "base_uri": "https://localhost:8080/"
        },
        "id": "baHAmbAbMFOv",
        "outputId": "7792255e-1ca2-4c95-d330-a7e4b5ceea38"
      },
      "source": [
        "#refference https://towardsdatascience.com/performance-metrics-confusion-matrix-precision-recall-and-f1-score-a8fe076a2262\n",
        "#f1 \n",
        "pre=c_m['tp']/(c_m['tp']+c_m['fp'])\n",
        "rec=c_m['tp']/(c_m['tp']+c_m['fn'])\n",
        "f_1=((2*(pre*rec))/(pre+rec))\n",
        "print('F1: ',f_1)"
      ],
      "execution_count": null,
      "outputs": [
        {
          "output_type": "stream",
          "text": [
            "F1:  0.9950248756218906\n"
          ],
          "name": "stdout"
        }
      ]
    },
    {
      "cell_type": "code",
      "metadata": {
        "id": "qD9yOd-iCzo5",
        "colab": {
          "base_uri": "https://localhost:8080/"
        },
        "outputId": "4cea6e24-fe83-411a-8132-855681b12ec4"
      },
      "source": [
        "# Accuracy\n",
        "Acc=(confusion_matrix['tp']+confusion_matrix['tn'])/data.shape[0]\n",
        "print('the accuracy is: ',Acc)"
      ],
      "execution_count": null,
      "outputs": [
        {
          "output_type": "stream",
          "text": [
            "the accuracy is:  0.9900990099009901\n"
          ],
          "name": "stdout"
        }
      ]
    },
    {
      "cell_type": "markdown",
      "metadata": {
        "id": "p4toDZpwnhlJ"
      },
      "source": [
        "#Computing Accuracy Score"
      ]
    },
    {
      "cell_type": "code",
      "metadata": {
        "colab": {
          "base_uri": "https://localhost:8080/"
        },
        "id": "jsa62eX_N7JN",
        "outputId": "bbcef9d8-bf09-406b-e498-2758848cc05d"
      },
      "source": [
        "#reference https://towardsdatascience.com/performance-metrics-accuracy-118f728d328f\n",
        "# Accuracy\n",
        "Ac=((c_m['tp']+c_m['tn'])/data.shape[0])\n",
        "print('Accuracy: ',Ac)"
      ],
      "execution_count": null,
      "outputs": [
        {
          "output_type": "stream",
          "text": [
            "Accuracy:  0.9900990099009901\n"
          ],
          "name": "stdout"
        }
      ]
    },
    {
      "cell_type": "code",
      "metadata": {
        "id": "M-oeMiLjHY27"
      },
      "source": [
        "# AUC score funtion\n",
        "from tqdm import tqdm_notebook      # purpose of import is to just see progress\n",
        "def auc(df):\n",
        "    s = df['y'].value_counts()\n",
        "    P = s[1]\n",
        "    N = s[0]\n",
        "    tpr = []\n",
        "    fpr = []\n",
        "    for elem in tqdm_notebook(df['proba']):\n",
        "        df['y_pred']=predict(df,'proba',elem)\n",
        "        confusion_matrix=cal_vals(df,'y','y_pred')\n",
        "        tpr.append(confusion_matrix['tp']/P)\n",
        "        fpr.append(confusion_matrix['fp']/N)\n",
        "        df.drop(columns=['y_pred'])\n",
        "    return np.trapz(tpr,fpr)"
      ],
      "execution_count": null,
      "outputs": []
    },
    {
      "cell_type": "markdown",
      "metadata": {
        "id": "hn-EsR3XodtW"
      },
      "source": [
        "#Computing AUC Score"
      ]
    },
    {
      "cell_type": "code",
      "metadata": {
        "id": "D2_KTHoVPgzX"
      },
      "source": [
        "#reference https://towardsdatascience.com/performance-metrics-receiver-operating-characteristic-roc-area-under-curve-auc-79d6d5b0b977\n",
        "# AUC \n",
        "from tqdm import tqdm_notebook  \n",
        "def auc(data):\n",
        " s=data['y'].value_counts()\n",
        " pos=s[1]\n",
        " neg=s[0]\n",
        " tpr=[]\n",
        " fnr=[]\n",
        " for elem in tqdm_notebook(data['proba']):\n",
        "    data['y_pred']=predict(data,'proba',elem)\n",
        "    confusion_matrix=cal_vals(data,'y','y_predict')\n",
        "    tpr.append(confusion_matrix['tp']/pos)\n",
        "    tpr.append(confusion_matrix['fp']/neg)\n",
        "    data.drop(columns=['y_pred'])\n",
        " return np.trapz(tpr,fpr)"
      ],
      "execution_count": null,
      "outputs": []
    },
    {
      "cell_type": "code",
      "metadata": {
        "colab": {
          "base_uri": "https://localhost:8080/",
          "height": 402
        },
        "id": "QN6LVnKsHY0q",
        "outputId": "dcf81dcb-dc93-4e4a-ccf3-065f89ae542e"
      },
      "source": [
        "data=data.sort_values(by='proba',ascending=False)\n",
        "data.drop(columns=['y_pred'])\n"
      ],
      "execution_count": null,
      "outputs": [
        {
          "output_type": "execute_result",
          "data": {
            "text/html": [
              "<div>\n",
              "<style scoped>\n",
              "    .dataframe tbody tr th:only-of-type {\n",
              "        vertical-align: middle;\n",
              "    }\n",
              "\n",
              "    .dataframe tbody tr th {\n",
              "        vertical-align: top;\n",
              "    }\n",
              "\n",
              "    .dataframe thead th {\n",
              "        text-align: right;\n",
              "    }\n",
              "</style>\n",
              "<table border=\"1\" class=\"dataframe\">\n",
              "  <thead>\n",
              "    <tr style=\"text-align: right;\">\n",
              "      <th></th>\n",
              "      <th>y</th>\n",
              "      <th>proba</th>\n",
              "      <th>yy_pred</th>\n",
              "    </tr>\n",
              "  </thead>\n",
              "  <tbody>\n",
              "    <tr>\n",
              "      <th>1664</th>\n",
              "      <td>1.0</td>\n",
              "      <td>0.899965</td>\n",
              "      <td>1</td>\n",
              "    </tr>\n",
              "    <tr>\n",
              "      <th>2099</th>\n",
              "      <td>1.0</td>\n",
              "      <td>0.899828</td>\n",
              "      <td>1</td>\n",
              "    </tr>\n",
              "    <tr>\n",
              "      <th>1028</th>\n",
              "      <td>1.0</td>\n",
              "      <td>0.899825</td>\n",
              "      <td>1</td>\n",
              "    </tr>\n",
              "    <tr>\n",
              "      <th>9592</th>\n",
              "      <td>1.0</td>\n",
              "      <td>0.899812</td>\n",
              "      <td>1</td>\n",
              "    </tr>\n",
              "    <tr>\n",
              "      <th>8324</th>\n",
              "      <td>1.0</td>\n",
              "      <td>0.899768</td>\n",
              "      <td>1</td>\n",
              "    </tr>\n",
              "    <tr>\n",
              "      <th>...</th>\n",
              "      <td>...</td>\n",
              "      <td>...</td>\n",
              "      <td>...</td>\n",
              "    </tr>\n",
              "    <tr>\n",
              "      <th>8294</th>\n",
              "      <td>1.0</td>\n",
              "      <td>0.500081</td>\n",
              "      <td>1</td>\n",
              "    </tr>\n",
              "    <tr>\n",
              "      <th>1630</th>\n",
              "      <td>1.0</td>\n",
              "      <td>0.500058</td>\n",
              "      <td>1</td>\n",
              "    </tr>\n",
              "    <tr>\n",
              "      <th>7421</th>\n",
              "      <td>1.0</td>\n",
              "      <td>0.500058</td>\n",
              "      <td>1</td>\n",
              "    </tr>\n",
              "    <tr>\n",
              "      <th>805</th>\n",
              "      <td>1.0</td>\n",
              "      <td>0.500047</td>\n",
              "      <td>1</td>\n",
              "    </tr>\n",
              "    <tr>\n",
              "      <th>5012</th>\n",
              "      <td>1.0</td>\n",
              "      <td>0.500019</td>\n",
              "      <td>1</td>\n",
              "    </tr>\n",
              "  </tbody>\n",
              "</table>\n",
              "<p>10100 rows × 3 columns</p>\n",
              "</div>"
            ],
            "text/plain": [
              "        y     proba  yy_pred\n",
              "1664  1.0  0.899965        1\n",
              "2099  1.0  0.899828        1\n",
              "1028  1.0  0.899825        1\n",
              "9592  1.0  0.899812        1\n",
              "8324  1.0  0.899768        1\n",
              "...   ...       ...      ...\n",
              "8294  1.0  0.500081        1\n",
              "1630  1.0  0.500058        1\n",
              "7421  1.0  0.500058        1\n",
              "805   1.0  0.500047        1\n",
              "5012  1.0  0.500019        1\n",
              "\n",
              "[10100 rows x 3 columns]"
            ]
          },
          "metadata": {
            "tags": []
          },
          "execution_count": 18
        }
      ]
    },
    {
      "cell_type": "code",
      "metadata": {
        "id": "x5HIJzq1QvoE",
        "colab": {
          "base_uri": "https://localhost:8080/"
        },
        "outputId": "aa77b59b-7d4b-4774-b51b-cd7b37cb6de5"
      },
      "source": [
        "\n",
        "\n",
        " data_c=pd.read_csv(\"5_c.csv\")\n",
        "data_c.shape"
      ],
      "execution_count": null,
      "outputs": [
        {
          "output_type": "execute_result",
          "data": {
            "text/plain": [
              "(2852, 2)"
            ]
          },
          "metadata": {
            "tags": []
          },
          "execution_count": 21
        }
      ]
    },
    {
      "cell_type": "code",
      "metadata": {
        "colab": {
          "base_uri": "https://localhost:8080/"
        },
        "id": "uDg1nSjDEqY0",
        "outputId": "02d71529-ca1e-4dae-8070-c21df384c9a8"
      },
      "source": [
        "print(data_c.head())"
      ],
      "execution_count": null,
      "outputs": [
        {
          "output_type": "stream",
          "text": [
            "   y      prob\n",
            "0  0  0.458521\n",
            "1  0  0.505037\n",
            "2  0  0.418652\n",
            "3  0  0.412057\n",
            "4  0  0.375579\n"
          ],
          "name": "stdout"
        }
      ]
    },
    {
      "cell_type": "code",
      "metadata": {
        "colab": {
          "base_uri": "https://localhost:8080/"
        },
        "id": "Uh18UNjsEy5H",
        "outputId": "50c5928c-f98a-4e00-c1cd-06a75944aeaf"
      },
      "source": [
        "print (data_c)"
      ],
      "execution_count": null,
      "outputs": [
        {
          "output_type": "stream",
          "text": [
            "      y      prob\n",
            "0     0  0.458521\n",
            "1     0  0.505037\n",
            "2     0  0.418652\n",
            "3     0  0.412057\n",
            "4     0  0.375579\n",
            "...  ..       ...\n",
            "2847  1  0.491663\n",
            "2848  1  0.292109\n",
            "2849  1  0.659161\n",
            "2850  1  0.456265\n",
            "2851  1  0.659161\n",
            "\n",
            "[2852 rows x 2 columns]\n"
          ],
          "name": "stdout"
        }
      ]
    },
    {
      "cell_type": "markdown",
      "metadata": {
        "id": "EBR6uwpXCqiq"
      },
      "source": [
        "#PART B"
      ]
    },
    {
      "cell_type": "code",
      "metadata": {
        "colab": {
          "base_uri": "https://localhost:8080/"
        },
        "id": "d48-Bp-elLAt",
        "outputId": "18c65061-f5fe-4da4-ef81-97fc6a59b2a3"
      },
      "source": [
        "data_b=pd.read_csv(\"5_b.csv\")\n",
        "data_b.shape"
      ],
      "execution_count": null,
      "outputs": [
        {
          "output_type": "execute_result",
          "data": {
            "text/plain": [
              "(10100, 2)"
            ]
          },
          "metadata": {
            "tags": []
          },
          "execution_count": 24
        }
      ]
    },
    {
      "cell_type": "code",
      "metadata": {
        "colab": {
          "base_uri": "https://localhost:8080/"
        },
        "id": "cwL15DNXlgyg",
        "outputId": "6f84ea46-b6ed-4f93-81c3-a64654e8212b"
      },
      "source": [
        "print(data_b.head())"
      ],
      "execution_count": null,
      "outputs": [
        {
          "output_type": "stream",
          "text": [
            "     y     proba\n",
            "0  0.0  0.281035\n",
            "1  0.0  0.465152\n",
            "2  0.0  0.352793\n",
            "3  0.0  0.157818\n",
            "4  0.0  0.276648\n"
          ],
          "name": "stdout"
        }
      ]
    },
    {
      "cell_type": "code",
      "metadata": {
        "colab": {
          "base_uri": "https://localhost:8080/"
        },
        "id": "Pz8zkPuHl1Up",
        "outputId": "434000d9-61da-439d-b014-8746869a9c84"
      },
      "source": [
        "print(data_b)"
      ],
      "execution_count": null,
      "outputs": [
        {
          "output_type": "stream",
          "text": [
            "         y     proba\n",
            "0      0.0  0.281035\n",
            "1      0.0  0.465152\n",
            "2      0.0  0.352793\n",
            "3      0.0  0.157818\n",
            "4      0.0  0.276648\n",
            "...    ...       ...\n",
            "10095  0.0  0.474401\n",
            "10096  0.0  0.128403\n",
            "10097  0.0  0.499331\n",
            "10098  0.0  0.157616\n",
            "10099  0.0  0.296618\n",
            "\n",
            "[10100 rows x 2 columns]\n"
          ],
          "name": "stdout"
        }
      ]
    },
    {
      "cell_type": "code",
      "metadata": {
        "id": "gke-CgvBshw0"
      },
      "source": [
        "thresh_hold=0.5\n",
        "data_b['y_pred']=predict(data_b,'proba',thresh_hold)\n",
        "c_m_b=cal_vals(data_b,'y','y_pred')"
      ],
      "execution_count": null,
      "outputs": []
    },
    {
      "cell_type": "markdown",
      "metadata": {
        "id": "GtgvBmvlolrs"
      },
      "source": [
        "#Computing Confusion Matrix"
      ]
    },
    {
      "cell_type": "code",
      "metadata": {
        "colab": {
          "base_uri": "https://localhost:8080/"
        },
        "id": "Th65Ak7AA_CS",
        "outputId": "249ecae9-62ef-41f5-b896-6f8e0c478db7"
      },
      "source": [
        "print(c_m_b)"
      ],
      "execution_count": null,
      "outputs": [
        {
          "output_type": "stream",
          "text": [
            "{'tn': 9761, 'tp': 55, 'fn': 45, 'fp': 239}\n"
          ],
          "name": "stdout"
        }
      ]
    },
    {
      "cell_type": "code",
      "metadata": {
        "id": "VCTcgrQG-WzQ"
      },
      "source": [
        "#refference https://www.youtube.com/watch?v=9PbrWiLC-4k\n",
        "\n",
        "#predict function\n",
        "data_b['yy_pred']= (data_b.proba <= 0.5).astype('int') \n",
        "\n",
        "##confusion matrix\n",
        "def compute_tp_tn_fn_fp(y,y_pred):\n",
        "\ttp = sum((y== 1) & (y_pred == 1))\n",
        "\ttn = sum((y == 0) & (y_pred == 0))\n",
        "\tfn = sum((y == 1) & (y_pred == 0))\n",
        "\tfp = sum((y == 0) & (y_pred == 1))\n",
        "\treturn {'tn':tn,'tp':tp,'fn':fn,'fp':fp}\n",
        "c_m_b=compute_tp_tn_fn_fp(data_b.y,data_b.y_pred)"
      ],
      "execution_count": null,
      "outputs": []
    },
    {
      "cell_type": "markdown",
      "metadata": {
        "id": "BLNktB-2m5ai"
      },
      "source": [
        "#Computing F1 Score"
      ]
    },
    {
      "cell_type": "code",
      "metadata": {
        "colab": {
          "base_uri": "https://localhost:8080/"
        },
        "id": "zyv-8WrnA5FH",
        "outputId": "a3fd84f2-9754-4653-9c7e-2273877353e4"
      },
      "source": [
        "#refference https://towardsdatascience.com/performance-metrics-confusion-matrix-precision-recall-and-f1-score-a8fe076a2262\n",
        "#f1 \n",
        "pre=c_m_b['tp']/(c_m_b['tp']+c_m_b['fp'])\n",
        "rec=c_m_b['tp']/(c_m_b['tp']+c_m_b['fn'])\n",
        "f_1=((2*(pre*rec))/(pre+rec))\n",
        "print('F1: ',f_1)"
      ],
      "execution_count": null,
      "outputs": [
        {
          "output_type": "stream",
          "text": [
            "F1:  0.2791878172588833\n"
          ],
          "name": "stdout"
        }
      ]
    },
    {
      "cell_type": "markdown",
      "metadata": {
        "id": "VQBsrqitmqUT"
      },
      "source": [
        "#Computing AUC Score"
      ]
    },
    {
      "cell_type": "code",
      "metadata": {
        "id": "ar4bGaeJDyUn"
      },
      "source": [
        "#refference https://towardsdatascience.com/performance-metrics-receiver-operating-characteristic-roc-area-under-curve-auc-79d6d5b0b977\n",
        "# AUC \n",
        "from tqdm import tqdm_notebook  \n",
        "def auc(data_b):\n",
        " s=data_b['y'].value_counts()\n",
        " pos=s[1]\n",
        " neg=s[0]\n",
        " tpr=[]\n",
        " fnr=[]\n",
        " for elem in tqdm_notebook(data_b['proba']):\n",
        "    data_b['y_pred']=predict(data_b,'proba',elem)\n",
        "    confusion_matrix=cal_vals(data_b,'y','y_predict')\n",
        "    tpr.append(confusion_matrix['tp']/pos)\n",
        "    tpr.append(confusion_matrix['fp']/neg)\n",
        "    data_b.drop(columns=['y_pred'])\n",
        " return np.trapz(tpr,fpr)"
      ],
      "execution_count": null,
      "outputs": []
    },
    {
      "cell_type": "code",
      "metadata": {
        "colab": {
          "base_uri": "https://localhost:8080/",
          "height": 402
        },
        "id": "ycmXr3-rECeO",
        "outputId": "70419ce8-9576-43d2-aa23-a14d5eca9750"
      },
      "source": [
        "data_b=data_b.sort_values(by='proba',ascending=False)\n",
        "data_b.drop(columns=['y_pred'])"
      ],
      "execution_count": null,
      "outputs": [
        {
          "output_type": "execute_result",
          "data": {
            "text/html": [
              "<div>\n",
              "<style scoped>\n",
              "    .dataframe tbody tr th:only-of-type {\n",
              "        vertical-align: middle;\n",
              "    }\n",
              "\n",
              "    .dataframe tbody tr th {\n",
              "        vertical-align: top;\n",
              "    }\n",
              "\n",
              "    .dataframe thead th {\n",
              "        text-align: right;\n",
              "    }\n",
              "</style>\n",
              "<table border=\"1\" class=\"dataframe\">\n",
              "  <thead>\n",
              "    <tr style=\"text-align: right;\">\n",
              "      <th></th>\n",
              "      <th>y</th>\n",
              "      <th>proba</th>\n",
              "      <th>yy_pred</th>\n",
              "    </tr>\n",
              "  </thead>\n",
              "  <tbody>\n",
              "    <tr>\n",
              "      <th>8446</th>\n",
              "      <td>1.0</td>\n",
              "      <td>0.595294</td>\n",
              "      <td>0</td>\n",
              "    </tr>\n",
              "    <tr>\n",
              "      <th>1978</th>\n",
              "      <td>1.0</td>\n",
              "      <td>0.594808</td>\n",
              "      <td>0</td>\n",
              "    </tr>\n",
              "    <tr>\n",
              "      <th>1657</th>\n",
              "      <td>1.0</td>\n",
              "      <td>0.592198</td>\n",
              "      <td>0</td>\n",
              "    </tr>\n",
              "    <tr>\n",
              "      <th>110</th>\n",
              "      <td>1.0</td>\n",
              "      <td>0.590171</td>\n",
              "      <td>0</td>\n",
              "    </tr>\n",
              "    <tr>\n",
              "      <th>8578</th>\n",
              "      <td>1.0</td>\n",
              "      <td>0.588718</td>\n",
              "      <td>0</td>\n",
              "    </tr>\n",
              "    <tr>\n",
              "      <th>...</th>\n",
              "      <td>...</td>\n",
              "      <td>...</td>\n",
              "      <td>...</td>\n",
              "    </tr>\n",
              "    <tr>\n",
              "      <th>8290</th>\n",
              "      <td>0.0</td>\n",
              "      <td>0.100230</td>\n",
              "      <td>1</td>\n",
              "    </tr>\n",
              "    <tr>\n",
              "      <th>2532</th>\n",
              "      <td>0.0</td>\n",
              "      <td>0.100189</td>\n",
              "      <td>1</td>\n",
              "    </tr>\n",
              "    <tr>\n",
              "      <th>1360</th>\n",
              "      <td>0.0</td>\n",
              "      <td>0.100165</td>\n",
              "      <td>1</td>\n",
              "    </tr>\n",
              "    <tr>\n",
              "      <th>1938</th>\n",
              "      <td>0.0</td>\n",
              "      <td>0.100161</td>\n",
              "      <td>1</td>\n",
              "    </tr>\n",
              "    <tr>\n",
              "      <th>313</th>\n",
              "      <td>0.0</td>\n",
              "      <td>0.100001</td>\n",
              "      <td>1</td>\n",
              "    </tr>\n",
              "  </tbody>\n",
              "</table>\n",
              "<p>10100 rows × 3 columns</p>\n",
              "</div>"
            ],
            "text/plain": [
              "        y     proba  yy_pred\n",
              "8446  1.0  0.595294        0\n",
              "1978  1.0  0.594808        0\n",
              "1657  1.0  0.592198        0\n",
              "110   1.0  0.590171        0\n",
              "8578  1.0  0.588718        0\n",
              "...   ...       ...      ...\n",
              "8290  0.0  0.100230        1\n",
              "2532  0.0  0.100189        1\n",
              "1360  0.0  0.100165        1\n",
              "1938  0.0  0.100161        1\n",
              "313   0.0  0.100001        1\n",
              "\n",
              "[10100 rows x 3 columns]"
            ]
          },
          "metadata": {
            "tags": []
          },
          "execution_count": 32
        }
      ]
    },
    {
      "cell_type": "markdown",
      "metadata": {
        "id": "QS44ucO1mFpR"
      },
      "source": [
        "#Computing Accuracy"
      ]
    },
    {
      "cell_type": "code",
      "metadata": {
        "colab": {
          "base_uri": "https://localhost:8080/"
        },
        "id": "-EnEM0hlE7cZ",
        "outputId": "30c2ae6a-c403-414b-df50-cb4c52b876d5"
      },
      "source": [
        "#reference https://towardsdatascience.com/performance-metrics-accuracy-118f728d328f\n",
        "# Accuracy\n",
        "Ac=((c_m_b['tp']+c_m_b['tn'])/data_b.shape[0])\n",
        "print('Accuracy: ',Ac)"
      ],
      "execution_count": null,
      "outputs": [
        {
          "output_type": "stream",
          "text": [
            "Accuracy:  0.9718811881188119\n"
          ],
          "name": "stdout"
        }
      ]
    },
    {
      "cell_type": "markdown",
      "metadata": {
        "id": "cKm9qCvLk957"
      },
      "source": [
        "#PART D"
      ]
    },
    {
      "cell_type": "code",
      "metadata": {
        "colab": {
          "base_uri": "https://localhost:8080/"
        },
        "id": "w32hTApKGeMB",
        "outputId": "24f62e3b-30e5-4b19-aef2-b96d3b9b8a01"
      },
      "source": [
        "#PART D\n",
        "data_d=pd.read_csv(\"5_d.csv\")\n",
        "data_d.shape\n"
      ],
      "execution_count": null,
      "outputs": [
        {
          "output_type": "execute_result",
          "data": {
            "text/plain": [
              "(157200, 2)"
            ]
          },
          "metadata": {
            "tags": []
          },
          "execution_count": 34
        }
      ]
    },
    {
      "cell_type": "code",
      "metadata": {
        "colab": {
          "base_uri": "https://localhost:8080/"
        },
        "id": "tkbC1A-FGnsH",
        "outputId": "15b7a522-467e-449a-aad8-4bab9fa71b59"
      },
      "source": [
        "print(data_d.head())"
      ],
      "execution_count": null,
      "outputs": [
        {
          "output_type": "stream",
          "text": [
            "       y   pred\n",
            "0  101.0  100.0\n",
            "1  120.0  100.0\n",
            "2  131.0  113.0\n",
            "3  164.0  125.0\n",
            "4  154.0  152.0\n"
          ],
          "name": "stdout"
        }
      ]
    },
    {
      "cell_type": "code",
      "metadata": {
        "colab": {
          "base_uri": "https://localhost:8080/"
        },
        "id": "kFit9-NEG843",
        "outputId": "ae7ae4ac-5483-4517-c036-969b13540578"
      },
      "source": [
        "print(data_d)"
      ],
      "execution_count": null,
      "outputs": [
        {
          "output_type": "stream",
          "text": [
            "            y   pred\n",
            "0       101.0  100.0\n",
            "1       120.0  100.0\n",
            "2       131.0  113.0\n",
            "3       164.0  125.0\n",
            "4       154.0  152.0\n",
            "...       ...    ...\n",
            "157195   87.0   83.0\n",
            "157196   97.0   86.0\n",
            "157197  106.0   93.0\n",
            "157198  105.0  101.0\n",
            "157199   81.0  104.0\n",
            "\n",
            "[157200 rows x 2 columns]\n"
          ],
          "name": "stdout"
        }
      ]
    },
    {
      "cell_type": "markdown",
      "metadata": {
        "id": "iuTsT7bolHbo"
      },
      "source": [
        "# Computing Mean Square Error"
      ]
    },
    {
      "cell_type": "code",
      "metadata": {
        "id": "1tNwmREuexPY"
      },
      "source": [
        "import numpy as np\n",
        "\n",
        "def mse(y, y_pred): \n",
        "    y, y_pred = np.array(y), np.array(y_pred)\n",
        "    return np.square(np.subtract(y,y_pred)).mean() \n",
        "    "
      ],
      "execution_count": null,
      "outputs": []
    },
    {
      "cell_type": "code",
      "metadata": {
        "colab": {
          "base_uri": "https://localhost:8080/"
        },
        "id": "cbac2gDyf-74",
        "outputId": "d6e04a0e-0d57-4037-b660-57fe93a264b6"
      },
      "source": [
        "y = [101,120,131,164,154]\n",
        "y_pred = [100,100,113,125,152]\n",
        "\n",
        "mse(y, y_pred)\n"
      ],
      "execution_count": null,
      "outputs": [
        {
          "output_type": "execute_result",
          "data": {
            "text/plain": [
              "450.0"
            ]
          },
          "metadata": {
            "tags": []
          },
          "execution_count": 38
        }
      ]
    },
    {
      "cell_type": "markdown",
      "metadata": {
        "id": "Mvkpr6MsWYky"
      },
      "source": [
        "#Computing MAPE"
      ]
    },
    {
      "cell_type": "code",
      "metadata": {
        "id": "HM-7NidTT-TJ"
      },
      "source": [
        "def mape(data_d,col1,col2):\n",
        "    val=sum(data_d[col1])/sum(data_d[col2])\n",
        "    return val"
      ],
      "execution_count": null,
      "outputs": []
    },
    {
      "cell_type": "code",
      "metadata": {
        "colab": {
          "base_uri": "https://localhost:8080/"
        },
        "id": "pKqzsXydTEFI",
        "outputId": "c234ce96-13bc-45fd-cd5d-addca34d32a8"
      },
      "source": [
        "MAPE=mape(data_d,'y','pred')\n",
        "print(MAPE)"
      ],
      "execution_count": null,
      "outputs": [
        {
          "output_type": "stream",
          "text": [
            "1.0011788074907857\n"
          ],
          "name": "stdout"
        }
      ]
    },
    {
      "cell_type": "code",
      "metadata": {
        "id": "lgfRUwy0Vz1T"
      },
      "source": [
        "#alternate method\n",
        "#https://www.askpython.com/python/examples/mape-mean-absolute-percentage-error\n",
        "\n",
        "def MAPE(data_d,y,pred):      #defining the MAPE function\n",
        "    mape = np.mean(np.abs((y - pred)/y))*100\n",
        "    return mape"
      ],
      "execution_count": null,
      "outputs": []
    },
    {
      "cell_type": "code",
      "metadata": {
        "colab": {
          "base_uri": "https://localhost:8080/"
        },
        "id": "NZ1KrTSHWUEp",
        "outputId": "e735d003-47fc-476d-b37f-2a56b3e1bc1f"
      },
      "source": [
        "MAPE=mape(data_d,'y','pred')\n",
        "print(MAPE)"
      ],
      "execution_count": null,
      "outputs": [
        {
          "output_type": "stream",
          "text": [
            "1.0011788074907857\n"
          ],
          "name": "stdout"
        }
      ]
    },
    {
      "cell_type": "markdown",
      "metadata": {
        "id": "0Uc0Ddxdlk1P"
      },
      "source": [
        "#Computing R^2 Error"
      ]
    },
    {
      "cell_type": "code",
      "metadata": {
        "colab": {
          "base_uri": "https://localhost:8080/"
        },
        "id": "8P6SLLG9fgar",
        "outputId": "46b60217-354d-41da-80fb-c37484e342a8"
      },
      "source": [
        "#R^2 Error\n",
        "#https://www.askpython.com/python/coefficient-of-determination\n",
        "import numpy\n",
        "y=[101.0,120.0,131.0, 164.0,154.0]\n",
        "pred=[100.0,100.0,113.0, 125.0, 125.0]\n",
        "cor_m = numpy.corrcoef(y,pred)   #calculating the correlation matrix\n",
        "correlation = cor_m[0,1]         #Slicing the matrix with indexes [0,1] to fetch the value of R i.e. Coefficient of Correlation.\n",
        "R_sq = correlation**2            #square the value of R to get the value of R square.\n",
        " \n",
        "print(R_sq)"
      ],
      "execution_count": null,
      "outputs": [
        {
          "output_type": "stream",
          "text": [
            "0.9042725448904922\n"
          ],
          "name": "stdout"
        }
      ]
    }
  ]
}